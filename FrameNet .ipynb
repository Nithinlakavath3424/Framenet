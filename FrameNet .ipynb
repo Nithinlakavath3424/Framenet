{
 "cells": [
  {
   "cell_type": "code",
   "execution_count": 10,
   "id": "77d36bfe",
   "metadata": {},
   "outputs": [],
   "source": [
    "from pprint import pprint\n",
    "from operator import itemgetter \n",
    "from nltk.corpus import framenet as fn\n",
    "from nltk.corpus.reader.framenet import PrettyList"
   ]
  },
  {
   "cell_type": "code",
   "execution_count": 17,
   "id": "9cf29e59",
   "metadata": {},
   "outputs": [
    {
     "data": {
      "text/plain": [
       "[<frame ID=200 name=Criminal_process>, <frame ID=500 name=Criminal_investigation>, ...]"
      ]
     },
     "execution_count": 17,
     "metadata": {},
     "output_type": "execute_result"
    }
   ],
   "source": [
    "x = fn.frames(r'(?i)crim')\n",
    "x.sort(key=itemgetter('ID'))\n",
    "x"
   ]
  },
  {
   "cell_type": "code",
   "execution_count": 19,
   "id": "9a3233da",
   "metadata": {},
   "outputs": [
    {
     "data": {
      "text/plain": [
       "[<frame ID=200 name=Criminal_process>, <frame ID=500 name=Criminal_investigation>, ...]"
      ]
     },
     "execution_count": 19,
     "metadata": {},
     "output_type": "execute_result"
    }
   ],
   "source": [
    "PrettyList(sorted(x,key=itemgetter('ID')))"
   ]
  },
  {
   "cell_type": "code",
   "execution_count": 20,
   "id": "8bfb0aa5",
   "metadata": {},
   "outputs": [
    {
     "data": {
      "text/plain": [
       "202"
      ]
     },
     "execution_count": 20,
     "metadata": {},
     "output_type": "execute_result"
    }
   ],
   "source": [
    "f = fn.frame(202)\n",
    "f.ID"
   ]
  },
  {
   "cell_type": "code",
   "execution_count": 21,
   "id": "c8429b76",
   "metadata": {},
   "outputs": [
    {
     "data": {
      "text/plain": [
       "'Arrest'"
      ]
     },
     "execution_count": 21,
     "metadata": {},
     "output_type": "execute_result"
    }
   ],
   "source": [
    "f.name"
   ]
  },
  {
   "cell_type": "code",
   "execution_count": 23,
   "id": "50f12fcd",
   "metadata": {},
   "outputs": [
    {
     "data": {
      "text/plain": [
       "11"
      ]
     },
     "execution_count": 23,
     "metadata": {},
     "output_type": "execute_result"
    }
   ],
   "source": [
    "len(f.lexUnit)"
   ]
  },
  {
   "cell_type": "code",
   "execution_count": 24,
   "id": "1577b89f",
   "metadata": {},
   "outputs": [
    {
     "name": "stdout",
     "output_type": "stream",
     "text": [
      "['Authorities',\n",
      " 'Charges',\n",
      " 'Co-participant',\n",
      " 'Manner',\n",
      " 'Means',\n",
      " 'Offense',\n",
      " 'Place',\n",
      " 'Purpose',\n",
      " 'Source_of_legal_authority',\n",
      " 'Suspect',\n",
      " 'Time',\n",
      " 'Type']\n"
     ]
    }
   ],
   "source": [
    "pprint(sorted([x for x in f.FE]))"
   ]
  },
  {
   "cell_type": "code",
   "execution_count": 32,
   "id": "15ea249e",
   "metadata": {},
   "outputs": [
    {
     "name": "stdout",
     "output_type": "stream",
     "text": [
      "[<Parent=Intentionally_affect -- Inheritance -> Child=Arrest>, <Complex=Criminal_process -- Subframe -> Component=Arrest>, ...]\n"
     ]
    }
   ],
   "source": [
    "pprint(f.frameRelations)"
   ]
  },
  {
   "cell_type": "code",
   "execution_count": 33,
   "id": "9b715fc6",
   "metadata": {},
   "outputs": [
    {
     "data": {
      "text/plain": [
       "[<frame ID=700 name=Committing_crime>]"
      ]
     },
     "execution_count": 33,
     "metadata": {},
     "output_type": "execute_result"
    }
   ],
   "source": [
    "x = fn.frames('crime')\n",
    "x.sort(key=itemgetter('ID'))\n",
    "x"
   ]
  },
  {
   "cell_type": "code",
   "execution_count": 37,
   "id": "def71f66",
   "metadata": {},
   "outputs": [
    {
     "data": {
      "text/plain": [
       "'Committing_crime'"
      ]
     },
     "execution_count": 37,
     "metadata": {},
     "output_type": "execute_result"
    }
   ],
   "source": [
    "f = fn.frame(700)\n",
    "f.name"
   ]
  },
  {
   "cell_type": "code",
   "execution_count": null,
   "id": "e23a1e29",
   "metadata": {},
   "outputs": [],
   "source": []
  }
 ],
 "metadata": {
  "kernelspec": {
   "display_name": "Python 3 (ipykernel)",
   "language": "python",
   "name": "python3"
  },
  "language_info": {
   "codemirror_mode": {
    "name": "ipython",
    "version": 3
   },
   "file_extension": ".py",
   "mimetype": "text/x-python",
   "name": "python",
   "nbconvert_exporter": "python",
   "pygments_lexer": "ipython3",
   "version": "3.11.5"
  }
 },
 "nbformat": 4,
 "nbformat_minor": 5
}
